{
 "cells": [
  {
   "cell_type": "markdown",
   "id": "cce925e9",
   "metadata": {
    "deletable": false,
    "editable": false
   },
   "source": [
    "<div style=\"background: linear-gradient(45deg, #aaa, #eee, #fff, #eee, #fff, #eee, #aaa);\n",
    "  text-align: center;\n",
    "  padding-top: 25px;\n",
    "            padding-bottom: 25px;\"><h1 style =\"font-size: 30px;\">Lab 3:</h1><h2>✨ Sequential Logic ✨</h2></div>\n",
    "<div style=\"font-size: 15px;\">"
   ]
  },
  {
   "cell_type": "markdown",
   "id": "equal-helen",
   "metadata": {
    "deletable": false,
    "editable": false
   },
   "source": [
    "### Import the necessary Chisel dependencies. "
   ]
  },
  {
   "cell_type": "code",
   "execution_count": null,
   "id": "framed-coffee",
   "metadata": {
    "deletable": false,
    "editable": false
   },
   "outputs": [],
   "source": [
    "interp.load.module(os.Path(s\"${System.getProperty(\"user.dir\")}/../resource/chisel_deps.sc\"))"
   ]
  },
  {
   "cell_type": "code",
   "execution_count": null,
   "id": "registered-expression",
   "metadata": {
    "deletable": false,
    "editable": false,
    "scrolled": true
   },
   "outputs": [],
   "source": [
    "import chisel3._\n",
    "import chisel3.util._\n",
    "import chiseltest._\n",
    "import chiseltest.RawTester.test\n",
    "import scala.util.Random"
   ]
  },
  {
   "cell_type": "markdown",
   "id": "082ce822",
   "metadata": {},
   "source": [
    "## Problem 1 - Counter\n",
    "This exercise is designed to guide you through the implementation of Counter by means of sequential circuits. Essentially it replicates Problem 6.2 from the Assignment 6."
   ]
  },
  {
   "cell_type": "markdown",
   "id": "754c6306",
   "metadata": {},
   "source": [
    "### Problem 1.1 - Counter Implementation\n",
    "Take a look at the slides and understand the design of an $n$-bit counter. Then write the corresponding implementation in Chisel."
   ]
  },
  {
   "cell_type": "code",
   "execution_count": null,
   "id": "956bf3e2",
   "metadata": {
    "solution2": "hidden",
    "solution2_first": true
   },
   "outputs": [],
   "source": [
    "class Counter(val bitWidth: Int) extends Module {\n",
    "    val io = IO(new Bundle{\n",
    "        val c = Input(Bool())\n",
    "        val l = Input(Bool())\n",
    "        val x = Input(UInt(bitWidth.W))\n",
    "        val y = Output(UInt(bitWidth.W))\n",
    "    })\n",
    "    val register = RegInit(0.U(bitWidth.W))\n",
    "    val incout = Wire(UInt(bitWidth.W))\n",
    "        \n",
    "    when (!io.l) {\n",
    "        ???\n",
    "    } .elsewhen (!io.c) {\n",
    "        ???\n",
    "    } .otherwise {\n",
    "        ???\n",
    "    }\n",
    "    \n",
    "    io.y := ???\n",
    "}"
   ]
  },
  {
   "cell_type": "raw",
   "id": "daeeffbe",
   "metadata": {
    "solution2": "hidden"
   },
   "source": [
    "class Counter(val bitWidth: Int) extends Module {\n",
    "    val io = IO(new Bundle{\n",
    "        val c = Input(Bool())\n",
    "        val l = Input(Bool())\n",
    "        val x = Input(UInt(bitWidth.W))\n",
    "        val y = Output(UInt(bitWidth.W))\n",
    "    })\n",
    "    val register = RegInit(0.U(bitWidth.W))\n",
    "    val incout = Wire(UInt(bitWidth.W))\n",
    "        \n",
    "    when (!io.l) {\n",
    "        register := io.x\n",
    "    } .elsewhen (!io.c) {\n",
    "        register := 0.U\n",
    "    } .otherwise {\n",
    "        register := incout\n",
    "    }\n",
    "    \n",
    "    io.y := register\n",
    "    incout := register + 1.U\n",
    "}"
   ]
  },
  {
   "cell_type": "markdown",
   "id": "19015ebe",
   "metadata": {},
   "source": [
    "### Problem 1.2 - Testing Counter\n",
    "Now it is time to test your implementation."
   ]
  },
  {
   "cell_type": "markdown",
   "id": "56f43ed7",
   "metadata": {},
   "source": [
    "#### Problem 1.2.1 - Full Count Test\n",
    "Check every value by counting from $0$."
   ]
  },
  {
   "cell_type": "code",
   "execution_count": null,
   "id": "fd36bfc3",
   "metadata": {
    "solution2": "hidden",
    "solution2_first": true
   },
   "outputs": [],
   "source": [
    "def testFullCount(CounterGen: => Counter) {\n",
    "    test (CounterGen) {dut => \n",
    "        val bitWidth = dut.bitWidth\n",
    "        ???\n",
    "    }\n",
    "    println(\"Success\")\n",
    "}"
   ]
  },
  {
   "cell_type": "raw",
   "id": "2dcda9f7",
   "metadata": {
    "solution2": "hidden"
   },
   "source": [
    "def testFullCount(CounterGen: => Counter) {\n",
    "    test (CounterGen) {dut => \n",
    "        val bitWidth = dut.bitWidth\n",
    "        dut.io.c.poke(0.B)\n",
    "        dut.io.l.poke(1.B)\n",
    "        dut.clock.step()\n",
    "        dut.io.c.poke(1.B)\n",
    "        for (i <- 0 until (1 << bitWidth)) {\n",
    "            dut.io.y.expect(i.U)\n",
    "            dut.clock.step()\n",
    "        }\n",
    "    }\n",
    "    println(\"Success\")\n",
    "}"
   ]
  },
  {
   "cell_type": "code",
   "execution_count": null,
   "id": "1bfb6b4f",
   "metadata": {},
   "outputs": [],
   "source": [
    "testFullCount(new Counter(4))"
   ]
  },
  {
   "cell_type": "markdown",
   "id": "cb77dde7",
   "metadata": {},
   "source": [
    "#### Problem 1.2.2 - Random Start Test\n",
    "This test will load random number, then check all values up to max. Repeat for number of tests."
   ]
  },
  {
   "cell_type": "code",
   "execution_count": null,
   "id": "50106907",
   "metadata": {
    "solution2": "hidden",
    "solution2_first": true
   },
   "outputs": [],
   "source": [
    "def testRandomCount(CounterGen: => Counter, numTests: Int) {\n",
    "    test (CounterGen) {dut => \n",
    "        val bitWidth = dut.bitWidth\n",
    "        val maxVal = 1 << bitWidth\n",
    "        val rand = new Random\n",
    "        dut.io.c.poke(1.B)\n",
    "        for (_ <- 0 until numTests) {\n",
    "            val x = rand.nextInt(maxVal)\n",
    "            ???\n",
    "            for (i <- x until maxVal) {\n",
    "                ???\n",
    "            }\n",
    "        }\n",
    "        println(\"Success\")\n",
    "    }\n",
    "}"
   ]
  },
  {
   "cell_type": "raw",
   "id": "0995f26b",
   "metadata": {
    "solution2": "hidden"
   },
   "source": [
    "def testRandomCount(CounterGen: => Counter, numTests: Int) {\n",
    "    test (CounterGen) {dut => \n",
    "        val bitWidth = dut.bitWidth\n",
    "        val maxVal = 1 << bitWidth\n",
    "        val rand = new Random\n",
    "        dut.io.c.poke(1.B)\n",
    "        for (_ <- 0 until numTests) {\n",
    "            val x = rand.nextInt(maxVal)\n",
    "            dut.io.l.poke(0.B)\n",
    "            dut.io.x.poke(x.U)\n",
    "            dut.clock.step()\n",
    "            dut.io.l.poke(1.B)\n",
    "            for (i <- x until maxVal) {\n",
    "                dut.io.y.expect(i.U)\n",
    "                dut.clock.step()\n",
    "            }\n",
    "        }\n",
    "        println(\"Success\")\n",
    "    }\n",
    "}"
   ]
  },
  {
   "cell_type": "code",
   "execution_count": null,
   "id": "0be7eee0",
   "metadata": {},
   "outputs": [],
   "source": [
    "testRandomCount(new Counter(4), 20)"
   ]
  },
  {
   "cell_type": "markdown",
   "id": "80815a6b",
   "metadata": {},
   "source": [
    "## Problem 2 - Finite State Machines\n",
    "This Exercise will guide you through implementation of two State Machines. It is highly advised to firstly that you firstly solve Problem 6.5 (a,b,c) from the Assignment 6. We will also implement two abstract classes for pattern detection machines. This will make sense later during the implementation of tests."
   ]
  },
  {
   "cell_type": "code",
   "execution_count": null,
   "id": "a2425d8a",
   "metadata": {},
   "outputs": [],
   "source": [
    "class MoorePatternDetector() extends Module {\n",
    "    val io = IO(new Bundle {\n",
    "        val i = Input(Bool())\n",
    "        val o = Output(Bool())\n",
    "    })\n",
    "}"
   ]
  },
  {
   "cell_type": "code",
   "execution_count": null,
   "id": "d1c48eba",
   "metadata": {},
   "outputs": [],
   "source": [
    "class MealyPatternDetector() extends Module {\n",
    "    val io = IO(new Bundle {\n",
    "        val i = Input(Bool())\n",
    "        val o = Output(Bool())\n",
    "    })\n",
    "}"
   ]
  },
  {
   "cell_type": "markdown",
   "id": "cfbad9c7",
   "metadata": {},
   "source": [
    "### Problem 2.1.1 - Moore Machine\n",
    "Implement your Moore machine in Chisel."
   ]
  },
  {
   "cell_type": "code",
   "execution_count": null,
   "id": "63a30f41",
   "metadata": {
    "solution2": "hidden",
    "solution2_first": true
   },
   "outputs": [],
   "source": [
    "class PatternMoore() extends MoorePatternDetector {\n",
    "    \n",
    "    io.o := ???\n",
    "}"
   ]
  },
  {
   "cell_type": "raw",
   "id": "f051d67d",
   "metadata": {
    "solution2": "hidden"
   },
   "source": [
    "class PatternMoore() extends MoorePatternDetector {\n",
    "    val state = RegInit(0.U(2.W)) \n",
    "    // 00 0.U - last 0 or none\n",
    "    // 01 1.U - last 1\n",
    "    // 10 2.U - last 10\n",
    "    // 11 3.U - last 101\n",
    "    \n",
    "    io.o := 0.B\n",
    "    switch(state) {\n",
    "        is(0.U) {\n",
    "            when (io.i) {\n",
    "                state := 1.U\n",
    "            }\n",
    "        }\n",
    "        is(1.U) {\n",
    "            when (!io.i) {\n",
    "                state := 2.U\n",
    "            }\n",
    "        }\n",
    "        is(2.U) {\n",
    "            when (io.i) {\n",
    "                state := 3.U\n",
    "            } .otherwise {\n",
    "                state := 0.U\n",
    "            }\n",
    "        }\n",
    "        is(3.U) {\n",
    "            io.o := 1.B\n",
    "            when (io.i) {\n",
    "                state := 1.U\n",
    "            } .otherwise {\n",
    "                state := 2.U\n",
    "            }\n",
    "        }\n",
    "    }\n",
    "}"
   ]
  },
  {
   "cell_type": "raw",
   "id": "6f36261c",
   "metadata": {
    "solution2": "hidden"
   },
   "source": [
    "// Here is an alternative solution. This implementation is the one from the sample solution,\n",
    "// though, it does not look very readable.\n",
    " \n",
    "class PatternMooreAlt() extends MoorePatternDetector { \n",
    "    val reg1 = RegInit(0.B)\n",
    "    val reg2 = RegInit(0.B)\n",
    "    val reg3 = RegInit(0.B)\n",
    "    val new_reg1 = Wire(Bool())\n",
    "    val new_reg2 = Wire(Bool())\n",
    "    val new_reg3 = Wire(Bool())\n",
    "    \n",
    "    new_reg1 := io.i\n",
    "    new_reg2 := reg1\n",
    "    new_reg3 := reg2\n",
    "    io.o := reg1 & !reg2 & reg3\n",
    "    reg1 := new_reg1\n",
    "    reg2 := new_reg2\n",
    "    reg3 := new_reg3\n",
    "}"
   ]
  },
  {
   "cell_type": "markdown",
   "id": "b7cbaab4",
   "metadata": {},
   "source": [
    "Now it is time to implement the test for input sequence $0010101$. Think about how the Moore machine behaves and when you are supposed to check values."
   ]
  },
  {
   "cell_type": "code",
   "execution_count": null,
   "id": "280ed303",
   "metadata": {
    "solution2": "hidden",
    "solution2_first": true
   },
   "outputs": [],
   "source": [
    "def testMooreMachine(MachineGen: => MoorePatternDetector) {\n",
    "    test(MachineGen) {dut =>\n",
    "        val inputs = Seq(0, 0, 1, 0, 1, 0, 1)\n",
    "        val expectedOutputs = Seq(???)\n",
    "\n",
    "        for ((input, expectedOutput) <- inputs.zip(expectedOutputs)) {\n",
    "            ???\n",
    "\n",
    "        }\n",
    "\n",
    "        println(\"Success\")\n",
    "    }\n",
    "}"
   ]
  },
  {
   "cell_type": "raw",
   "id": "4dd62b3a",
   "metadata": {
    "solution2": "hidden"
   },
   "source": [
    "def testMooreMachine(MachineGen: => MoorePatternDetector) {\n",
    "    test(MachineGen) {dut =>\n",
    "        val inputs = Seq(0, 0, 1, 0, 1, 0, 1)\n",
    "        val expectedOutputs = Seq(0, 0, 0, 0, 1, 0, 1)\n",
    "\n",
    "        for ((input, expectedOutput) <- inputs.zip(expectedOutputs)) {\n",
    "            dut.io.i.poke(input.B)\n",
    "            dut.clock.step()\n",
    "            dut.io.o.expect(expectedOutput.B)\n",
    "\n",
    "        }\n",
    "\n",
    "        println(\"Success\")\n",
    "    }\n",
    "}"
   ]
  },
  {
   "cell_type": "code",
   "execution_count": null,
   "id": "0a9059e7",
   "metadata": {},
   "outputs": [],
   "source": [
    "testMooreMachine(new PatternMoore())"
   ]
  },
  {
   "cell_type": "markdown",
   "id": "b32b3074",
   "metadata": {},
   "source": [
    "### Problem 2.1.2 - Mealy Machine\n",
    "Implement your Mealy machine in Chisel."
   ]
  },
  {
   "cell_type": "code",
   "execution_count": null,
   "id": "90c8dc0e",
   "metadata": {
    "solution2": "hidden",
    "solution2_first": true
   },
   "outputs": [],
   "source": [
    "class PatternMealy() extends PatternDetectorMealy {\n",
    "    \n",
    "    io.o := ???\n",
    "}"
   ]
  },
  {
   "cell_type": "raw",
   "id": "3572a029",
   "metadata": {
    "solution2": "hidden"
   },
   "source": [
    "class PatternMealy() extends MealyPatternDetector {\n",
    "    val state = RegInit(0.U(2.W)) \n",
    "    // 00 0.U - last 0 or none\n",
    "    // 01 1.U - last 1\n",
    "    // 10 2.U - last 10\n",
    "    \n",
    "    io.o := 0.B\n",
    "    switch(state) {\n",
    "        is(0.U) {\n",
    "            when (io.i) {\n",
    "                state := 1.U\n",
    "            }\n",
    "        }\n",
    "        is(1.U) {\n",
    "            when (!io.i) {\n",
    "                state := 2.U\n",
    "            }\n",
    "        }\n",
    "        is(2.U) {\n",
    "            when (io.i) {\n",
    "                state := 1.U\n",
    "                io.o := 1.B\n",
    "            } .otherwise {\n",
    "                state := 0.U\n",
    "                io.o := 0.B\n",
    "            }\n",
    "        }\n",
    "    }\n",
    "}"
   ]
  },
  {
   "cell_type": "raw",
   "id": "27d5bdfc",
   "metadata": {
    "solution2": "hidden"
   },
   "source": [
    "// Here is an alternative solution. This implementation is the one from the sample solution,\n",
    "// though, it does not look very readable.\n",
    " \n",
    "class PatternMealyAlt() extends MealyPatternDetector { \n",
    "    val reg1 = RegInit(0.B)\n",
    "    val reg2 = RegInit(0.B)\n",
    "    val new_reg1 = Wire(Bool())\n",
    "    val new_reg2 = Wire(Bool())\n",
    "    \n",
    "    new_reg1 := io.i\n",
    "    new_reg2 := reg1\n",
    "    io.o := !reg1 & reg2 & io.i\n",
    "    reg1 := new_reg1\n",
    "    reg2 := new_reg2\n",
    "}"
   ]
  },
  {
   "cell_type": "markdown",
   "id": "c6eeb01e",
   "metadata": {},
   "source": [
    "Again, it is time to implement the test for input sequence $0010101$. Perhaps, you already figured the output sequence, however, pay attention to the code you write inside the for loop."
   ]
  },
  {
   "cell_type": "code",
   "execution_count": null,
   "id": "a4d2999a",
   "metadata": {
    "solution2": "hidden",
    "solution2_first": true
   },
   "outputs": [],
   "source": [
    "def testMealyMachine(MachineGen: => MealyPatternDetector) {\n",
    "    test(MachineGen) {dut =>\n",
    "        val inputs = Seq(0, 0, 1, 0, 1, 0, 1)\n",
    "        val expectedOutputs = Seq(???)\n",
    "\n",
    "        for ((input, expectedOutput) <- inputs.zip(expectedOutputs)) {\n",
    "            ???\n",
    "\n",
    "        }\n",
    "\n",
    "        println(\"Success\")\n",
    "    }\n",
    "}"
   ]
  },
  {
   "cell_type": "raw",
   "id": "595f2b7b",
   "metadata": {
    "solution2": "hidden"
   },
   "source": [
    "def testMealyMachine(MachineGen: => MealyPatternDetector) {\n",
    "    test(MachineGen) {dut =>\n",
    "        val inputs = Seq(0, 0, 1, 0, 1, 0, 1)\n",
    "        val expectedOutputs = Seq(0, 0, 0, 0, 1, 0, 1)\n",
    "\n",
    "        for ((input, expectedOutput) <- inputs.zip(expectedOutputs)) {\n",
    "            dut.io.i.poke(input.B)\n",
    "            dut.io.o.expect(expectedOutput.B)\n",
    "            dut.clock.step()\n",
    "\n",
    "        }\n",
    "\n",
    "        println(\"Success\")\n",
    "    }\n",
    "}"
   ]
  },
  {
   "cell_type": "code",
   "execution_count": null,
   "id": "142781b7",
   "metadata": {},
   "outputs": [],
   "source": [
    "testMealyMachine(new PatternMealy())"
   ]
  }
 ],
 "metadata": {
  "celltoolbar": "Edit Metadata",
  "kernelspec": {
   "display_name": "Scala",
   "language": "scala",
   "name": "scala"
  },
  "language_info": {
   "codemirror_mode": "text/x-scala",
   "file_extension": ".sc",
   "mimetype": "text/x-scala",
   "name": "scala",
   "nbconvert_exporter": "script",
   "version": "2.13.10"
  }
 },
 "nbformat": 4,
 "nbformat_minor": 5
}
