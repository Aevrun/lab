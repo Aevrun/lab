{
 "cells": [
  {
   "cell_type": "markdown",
   "metadata": {},
   "source": [
    "<div style=\"background: linear-gradient(45deg, #aaa, #eee, #fff, #eee, #fff, #eee, #aaa);\n",
    "  text-align: center;\n",
    "  padding-top: 25px;\n",
    "            padding-bottom: 25px;\"><h1 style =\"font-size: 30px;\">Lab 4</h1><h2>✨ More Sequential Circuits ✨</h2></div>\n",
    "<div style=\"font-size: 15px;\">"
   ]
  },
  {
   "cell_type": "markdown",
   "metadata": {},
   "source": [
    "### Import the necessary Chisel dependencies. "
   ]
  },
  {
   "cell_type": "code",
   "execution_count": null,
   "metadata": {},
   "outputs": [],
   "source": [
    "interp.load.module(os.Path(s\"${System.getProperty(\"user.dir\")}/../resource/chisel_deps.sc\"))"
   ]
  },
  {
   "cell_type": "code",
   "execution_count": null,
   "metadata": {},
   "outputs": [],
   "source": [
    "import chisel3._\n",
    "import chisel3.util._\n",
    "import chiseltest._\n",
    "import chiseltest.RawTester.test"
   ]
  },
  {
   "cell_type": "markdown",
   "metadata": {},
   "source": [
    "## Problem 1 - Ticker\n",
    "In the previous lab and in the lecture we saw multiple designs of counters, i.e., modules that count the number of clock ticks up to a particular value. Here we want to implement a so called `Ticker` that outputs $1$ whenever the number of clock cycles is divisible by $n$. For example for $n=2$ it should output $1$ in every other clock cycle.\n",
    "\n",
    "To build such a `Ticker` we want to reuse our Counter from the lecture, which is reproduced below:"
   ]
  },
  {
   "cell_type": "code",
   "execution_count": null,
   "metadata": {},
   "outputs": [],
   "source": [
    "class Counter(maxVal: Int) extends Module {\n",
    "    val io = IO(new Bundle {\n",
    "        val en  = Input(Bool())\n",
    "        val out = Output(UInt())\n",
    "    })\n",
    "    val count = RegInit(0.U(log2Ceil(maxVal+1).W))\n",
    "    when (io.en) {\n",
    "        when (count < maxVal.U) {\n",
    "            count := count + 1.U\n",
    "        } .otherwise {\n",
    "            count := 0.U\n",
    "        }\n",
    "    }\n",
    "    io.out := count\n",
    "}"
   ]
  },
  {
   "cell_type": "markdown",
   "metadata": {},
   "source": [
    "Construct a `Ticker` using the above Counter module."
   ]
  },
  {
   "cell_type": "code",
   "execution_count": null,
   "metadata": {
    "solution2": "hidden",
    "solution2_first": true,
    "vscode": {
     "languageId": "plaintext"
    }
   },
   "outputs": [],
   "source": [
    "class Ticker(nTicks: Int) extends Module {\n",
    "    ???\n",
    "}"
   ]
  },
  {
   "cell_type": "raw",
   "metadata": {
    "solution2": "hidden",
    "vscode": {
     "languageId": "raw"
    }
   },
   "source": [
    "class Ticker(nTicks: Int) extends Module {\n",
    "    val io = IO(new Bundle {\n",
    "        val tick = Output(Bool())\n",
    "    })\n",
    "    val counter = Module(new Counter(nTicks-1))\n",
    "    counter.io.en := 1.B\n",
    "    io.tick := counter.io.out === (nTicks - 1).U\n",
    "}"
   ]
  },
  {
   "cell_type": "markdown",
   "metadata": {},
   "source": [
    "Now it is time to test your `Ticker`, the skeleton is given and works as follows, we want to check the correctness of output for $3$ rounds. Here one round corresponds to $1$ tick of the `Ticker`."
   ]
  },
  {
   "cell_type": "code",
   "execution_count": null,
   "metadata": {
    "solution2": "hidden",
    "solution2_first": true,
    "vscode": {
     "languageId": "plaintext"
    }
   },
   "outputs": [],
   "source": [
    "def testTicker(nTicks: Int): Boolean = {\n",
    "    test(new Ticker(nTicks)) { dut =>\n",
    "        for (round <- 0 until 3) {\n",
    "            ???\n",
    "        }\n",
    "    }\n",
    "    println(\"Success!\")\n",
    "    true\n",
    "}"
   ]
  },
  {
   "cell_type": "raw",
   "metadata": {
    "solution2": "hidden",
    "vscode": {
     "languageId": "plaintext"
    }
   },
   "source": [
    "def testTicker(nTicks: Int): Boolean = {\n",
    "    test(new Ticker(nTicks)) { dut =>\n",
    "        for (round <- 0 until 3) {\n",
    "            for (c <- 0 until nTicks) {\n",
    "                dut.io.tick.expect((c==nTicks-1).B)\n",
    "                dut.clock.step()\n",
    "            }\n",
    "        }\n",
    "    }\n",
    "    println(\"Success!\")\n",
    "    true\n",
    "}"
   ]
  },
  {
   "cell_type": "code",
   "execution_count": null,
   "metadata": {
    "vscode": {
     "languageId": "plaintext"
    }
   },
   "outputs": [],
   "source": [
    "assert(testTicker(1))\n",
    "assert(testTicker(2))\n",
    "assert(testTicker(3))\n",
    "assert(testTicker(4))"
   ]
  },
  {
   "cell_type": "markdown",
   "metadata": {},
   "source": [
    "## Problem 2 - Accumulator\n",
    "Now, let's build an `Accumulator`. Each cycle `en` is high, it should add `in` to it's internal total. The internal total is visible as the output `out`. The internal total should initialize to $0$ on reset. The reset happens automatically whenever the implicit `reset` input is true on the circuit and can be triggered by `dut.reset.poke(1.B)`. See the test function below to better understand this."
   ]
  },
  {
   "cell_type": "code",
   "execution_count": null,
   "metadata": {
    "solution2": "hidden",
    "solution2_first": true
   },
   "outputs": [],
   "source": [
    "class Accumulator(w: Int) extends Module {\n",
    "    ???\n",
    "}"
   ]
  },
  {
   "cell_type": "code",
   "execution_count": null,
   "metadata": {
    "solution2": "hidden",
    "vscode": {
     "languageId": "plaintext"
    }
   },
   "outputs": [],
   "source": [
    "class Accumulator(w: Int) extends Module {\n",
    "    val io = IO(new Bundle {\n",
    "        val in  = Input(UInt(w.W))\n",
    "        val en  = Input(Bool())\n",
    "        val out = Output(UInt(w.W))\n",
    "    })\n",
    "    val total = RegInit(0.U(w.W))\n",
    "    when(io.en) {\n",
    "        total := total + io.in\n",
    "    }\n",
    "    io.out := total\n",
    "}"
   ]
  },
  {
   "cell_type": "markdown",
   "metadata": {},
   "source": [
    "This time the test is already provided by us, but make sure to read through it and understand what happens in each cycle, especially in the last one."
   ]
  },
  {
   "cell_type": "code",
   "execution_count": null,
   "metadata": {
    "vscode": {
     "languageId": "plaintext"
    }
   },
   "outputs": [],
   "source": [
    "def testAccumulator: Boolean = {\n",
    "    test(new Accumulator(4)) { dut =>\n",
    "        // Cycle 0\n",
    "        dut.io.in.poke(0.U)\n",
    "        dut.io.en.poke(0.B)\n",
    "        dut.clock.step(1)\n",
    "        dut.io.out.expect(0.U)\n",
    "\n",
    "        // Cycle 1\n",
    "        dut.io.in.poke(0.U)\n",
    "        dut.io.en.poke(0.B)\n",
    "        dut.clock.step(1)\n",
    "        dut.io.out.expect(0.U)\n",
    "\n",
    "        // Cycle 2\n",
    "        dut.io.in.poke(3.U)\n",
    "        dut.io.en.poke(0.B)\n",
    "        dut.clock.step(1)\n",
    "        dut.io.out.expect(0.U)\n",
    "\n",
    "        // Cycle 3\n",
    "        dut.io.in.poke(3.U)\n",
    "        dut.io.en.poke(1.B)\n",
    "        dut.clock.step(1)\n",
    "        dut.io.out.expect(3.U)\n",
    "\n",
    "        // Cycle 4\n",
    "        dut.io.in.poke(4.U)\n",
    "        dut.io.en.poke(1.B)\n",
    "        dut.clock.step(1)\n",
    "        dut.io.out.expect(7.U)        \n",
    "\n",
    "        //Cycle 5\n",
    "        dut.io.in.poke(1.U)\n",
    "        dut.io.en.poke(1.B)\n",
    "        dut.reset.poke(1.B) // when reset is true, all registers are reset to their default values\n",
    "        dut.clock.step(1)\n",
    "        dut.io.out.expect(0.U)\n",
    "    }\n",
    "    println(\"Success!\")\n",
    "    true\n",
    "}\n",
    "assert(testAccumulator)"
   ]
  },
  {
   "cell_type": "markdown",
   "metadata": {},
   "source": [
    "## Problem 3 - Histogram\n",
    "Let's build a `Histogram` generator. The generated hardware shall count how often it sees each input. It will take a parameter `n`, and internally it will use `n` registers to count how often it has seen inputs (from 0 to n-1). Each cycle, the `x` input chooses which internal register to increment. The `out` output should provide the new total value that will be written into the register the next cycle. In other words, `out` immediately shows the new value of the count associated with `x`."
   ]
  },
  {
   "cell_type": "markdown",
   "metadata": {},
   "source": [
    "Implement the `Histogram` generator using Chisel registers and vectors."
   ]
  },
  {
   "cell_type": "code",
   "execution_count": null,
   "metadata": {
    "solution2": "hidden",
    "solution2_first": true
   },
   "outputs": [],
   "source": [
    "class Histogram(n: Int) extends Module {\n",
    "    ???\n",
    "}"
   ]
  },
  {
   "cell_type": "code",
   "execution_count": null,
   "metadata": {
    "solution2": "hidden",
    "vscode": {
     "languageId": "raw"
    }
   },
   "outputs": [],
   "source": [
    "class Histogram(n: Int) extends Module {\n",
    "    val io = IO(new Bundle {\n",
    "        val x = Input(UInt(log2Ceil(n).W))\n",
    "        val out = Output(UInt(5.W))\n",
    "    })\n",
    "    \n",
    "    val regvec = RegInit(VecInit(Seq.fill(n)(0.U(5.W))))\n",
    "    \n",
    "    regvec(io.x) := regvec(io.x) + 1.U\n",
    "    io.out := regvec(io.x)\n",
    "}"
   ]
  },
  {
   "cell_type": "markdown",
   "metadata": {},
   "source": [
    "Here is a test for the `Histogram` generator:"
   ]
  },
  {
   "cell_type": "code",
   "execution_count": null,
   "metadata": {},
   "outputs": [],
   "source": [
    "def testHistogram: Boolean = {\n",
    "    test(new Histogram(3)) { dut =>    \n",
    "        // Cycle 0\n",
    "        dut.io.x.poke(1.U)\n",
    "        dut.clock.step(1)\n",
    "        dut.io.out.expect(1.U)\n",
    "\n",
    "        // Cycle 1\n",
    "        dut.io.x.poke(1.U)\n",
    "        dut.clock.step(1)\n",
    "        dut.io.out.expect(2.U)\n",
    "        \n",
    "        // Cycle 2\n",
    "        dut.io.x.poke(0.U)\n",
    "        dut.clock.step(1)\n",
    "        dut.io.out.expect(1.U)\n",
    "\n",
    "        // Cycle 3\n",
    "        dut.io.x.poke(2.U)\n",
    "        dut.clock.step(1)\n",
    "        dut.io.out.expect(1.U)\n",
    "    }\n",
    "    println(\"Success!\")\n",
    "    true\n",
    "}"
   ]
  },
  {
   "cell_type": "code",
   "execution_count": null,
   "metadata": {},
   "outputs": [],
   "source": [
    "assert(testHistogram)"
   ]
  }
 ],
 "metadata": {
  "kernelspec": {
   "display_name": "Scala",
   "language": "scala",
   "name": "scala"
  },
  "language_info": {
   "codemirror_mode": "text/x-scala",
   "file_extension": ".sc",
   "mimetype": "text/x-scala",
   "name": "scala",
   "nbconvert_exporter": "script",
   "version": "2.13.10"
  }
 },
 "nbformat": 4,
 "nbformat_minor": 2
}