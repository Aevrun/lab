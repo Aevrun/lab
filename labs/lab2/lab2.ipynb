{
 "cells": [
  {
   "cell_type": "markdown",
   "id": "17706489",
   "metadata": {},
   "source": [
    "<div style=\"background: linear-gradient(45deg, #aaa, #eee, #fff, #eee, #fff, #eee, #aaa);\n",
    "  text-align: center;\n",
    "  padding-top: 25px;\n",
    "            padding-bottom: 25px;\"><h1 style =\"font-size: 30px;\">Lab 2</h1><h2>✨ Designing Circuits ✨</h2></div>\n",
    "<div style=\"font-size: 15px;\">\n"
   ]
  },
  {
   "cell_type": "markdown",
   "id": "equal-helen",
   "metadata": {
    "deletable": false,
    "editable": false
   },
   "source": [
    "### Import the necessary Chisel dependencies. "
   ]
  },
  {
   "cell_type": "code",
   "execution_count": null,
   "id": "framed-coffee",
   "metadata": {
    "deletable": false,
    "editable": false
   },
   "outputs": [],
   "source": [
    "interp.load.module(os.Path(s\"${System.getProperty(\"user.dir\")}/../resource/chisel_deps.sc\"))"
   ]
  },
  {
   "cell_type": "code",
   "execution_count": null,
   "id": "registered-expression",
   "metadata": {
    "deletable": false,
    "scrolled": true
   },
   "outputs": [],
   "source": [
    "import ammonite.repl._\n",
    "import chisel3._\n",
    "import chisel3.util._\n",
    "import chiseltest._\n",
    "import chiseltest.RawTester.test"
   ]
  },
  {
   "cell_type": "code",
   "execution_count": null,
   "id": "ba4c4c53",
   "metadata": {},
   "outputs": [],
   "source": [
    "repl.newCompiler\n",
    "repl.load.exec(os.Path(s\"${System.getProperty(\"user.dir\")}/../resource/deps.scala\"))"
   ]
  },
  {
   "cell_type": "markdown",
   "id": "a005ee11",
   "metadata": {
    "deletable": false
   },
   "source": [
    "## Problem 1 - Comparator\n",
    "It is highly advised that you first solve Problem 5.1 from Assignment 5 before tackling this problem. After designing circuits for comparators on paper, you will now implement them in Chisel. According to Problem 5.1 a comparator takes two $n$-bit inputs and outputs two 1-bit values:\n",
    "</br>\n",
    "$G=1 :\\Leftrightarrow \\langle a \\rangle > \\langle b \\rangle$\n",
    "</br>\n",
    "$Q=1 :\\Leftrightarrow \\langle a \\rangle = \\langle b \\rangle$\n",
    "</br>\n",
    "So let's define an abstract class according to the specification above."
   ]
  },
  {
   "cell_type": "code",
   "execution_count": null,
   "id": "d87daf1e",
   "metadata": {
    "solution2": "hidden",
    "solution2_first": true
   },
   "outputs": [],
   "source": [
    "abstract class Comparator(val bitWidth: Int) extends Module {\n",
    "    val io = IO(new Bundle {\n",
    "        val in1 = ?\n",
    "        val in2 = ?\n",
    "        val g = ?\n",
    "        val q = ?\n",
    "    })\n",
    "}"
   ]
  },
  {
   "cell_type": "raw",
   "id": "ab1bd2c6",
   "metadata": {
    "solution2": "hidden"
   },
   "source": [
    "abstract class Comparator(val bitWidth: Int) extends Module {\n",
    "    val io = IO(new Bundle {\n",
    "        val in1 = Input(UInt(bitWidth.W))\n",
    "        val in2 = Input(UInt(bitWidth.W))\n",
    "        val g = Output(Bool())\n",
    "        val q = Output(Bool())\n",
    "    })\n",
    "}"
   ]
  },
  {
   "cell_type": "markdown",
   "id": "698bc153",
   "metadata": {
    "deletable": false
   },
   "source": [
    "### Problem 1.0 - Exhaustive testing\n",
    "Before we get into implementing comparators, let's define an exhaustive test function for an abstract comparator."
   ]
  },
  {
   "cell_type": "code",
   "execution_count": null,
   "id": "a646a015",
   "metadata": {
    "solution2": "hidden",
    "solution2_first": true
   },
   "outputs": [],
   "source": [
    "def comparatorTest(compGen: => Comparator) {\n",
    "    test(compGen) { dut =>\n",
    "        val bitWidth = dut.bitWidth\n",
    "        val maxValue = ?\n",
    "        for (i <- ?) {\n",
    "            for (j <- ?) {\n",
    "                dut.io.in1.poke(i.U)\n",
    "                dut.io.in2.poke(j.U)\n",
    "                dut.io.g.expect(?)\n",
    "                dut.io.q.expect(?)\n",
    "            }\n",
    "        }\n",
    "    }\n",
    "    println(\"Success!\")\n",
    "}"
   ]
  },
  {
   "cell_type": "raw",
   "id": "5a9442f0",
   "metadata": {
    "solution2": "hidden"
   },
   "source": [
    "def comparatorTest(compGen: => Comparator) {\n",
    "    test(compGen) { dut =>\n",
    "        val bitWidth = dut.bitWidth\n",
    "        val maxValue = (BigInt(1) << bitWidth) - 1  //maximum value given bitWidth\n",
    "        for (i <- BigInt(0) to maxValue) {\n",
    "            for (j <- BigInt(0) to maxValue) {\n",
    "                dut.io.in1.poke(i.U)\n",
    "                dut.io.in2.poke(j.U)\n",
    "                dut.io.g.expect((if (i > j) 1 else 0).U)\n",
    "                dut.io.q.expect((if (i == j) 1 else 0).U)\n",
    "            }\n",
    "        }\n",
    "    }\n",
    "    println(\"Success!\")\n",
    "}"
   ]
  },
  {
   "cell_type": "markdown",
   "id": "4c7dc287",
   "metadata": {
    "deletable": false
   },
   "source": [
    "### Problem 1.1 - Unsigned Comparator\n",
    "Now let's recursively implement a comparator for binary numbers in unsigned representation. At generation time, we need to distinguish the base case (n = 1) from the recursive case. The distinction can be made using a Scala conditional as indicated in the partial solution below. First create a linear depth solution, then improve your implementation to logarithmic depth."
   ]
  },
  {
   "cell_type": "markdown",
   "id": "52b60563",
   "metadata": {},
   "source": [
    "#### Linear Depth"
   ]
  },
  {
   "cell_type": "code",
   "execution_count": null,
   "id": "ad250b47",
   "metadata": {
    "solution2": "hidden",
    "solution2_first": true
   },
   "outputs": [],
   "source": [
    "class UnsignedComparatorLinear(bitWidth: Int) extends Comparator(bitWidth) {\n",
    "    if (bitWidth == 1) {\n",
    "        io.g := ?\n",
    "        io.q := ?\n",
    "    }\n",
    "    else {\n",
    "        ???\n",
    "    }\n",
    "}"
   ]
  },
  {
   "cell_type": "raw",
   "id": "055ad818",
   "metadata": {
    "solution2": "hidden"
   },
   "source": [
    "class UnsignedComparatorLinear(bitWidth: Int) extends Comparator(bitWidth) {\n",
    "    if (bitWidth == 1) {\n",
    "        io.g := io.in1 & ~io.in2\n",
    "        // alternative: io.g := io.in1 > io.in2\n",
    "        io.q := ~(io.in1 ^ io.in2)\n",
    "        // alternative: io.q := io.in1 === io.in2\n",
    "    }\n",
    "    else {\n",
    "        val subcircuit = Module(new UnsignedComparatorLinear(bitWidth - 1))\n",
    "        subcircuit.io.in1 := io.in1(bitWidth - 2, 0)\n",
    "        subcircuit.io.in2 := io.in2(bitWidth - 2, 0)\n",
    "        when (io.in1(bitWidth - 1) === io.in2(bitWidth - 1)) {\n",
    "            io.g := subcircuit.io.g\n",
    "            io.q := subcircuit.io.q\n",
    "        }\n",
    "        .elsewhen (io.in1(bitWidth - 1) === 1.U) {\n",
    "            io.g := 1.B\n",
    "            io.q := 0.B\n",
    "        }\n",
    "        .otherwise {\n",
    "            io.g := 0.B\n",
    "            io.q := 0.B\n",
    "        }\n",
    "    }\n",
    "}"
   ]
  },
  {
   "cell_type": "markdown",
   "id": "f83e3d7a",
   "metadata": {},
   "source": [
    "#### Let's test your circuit exhaustively!"
   ]
  },
  {
   "cell_type": "code",
   "execution_count": null,
   "id": "a7f7bfa4",
   "metadata": {},
   "outputs": [],
   "source": [
    "comparatorTest(new UnsignedComparatorLinear(6))"
   ]
  },
  {
   "cell_type": "markdown",
   "id": "bd49015d",
   "metadata": {},
   "source": [
    "#### Logarithmic Depth"
   ]
  },
  {
   "cell_type": "code",
   "execution_count": null,
   "id": "55582666",
   "metadata": {
    "solution2": "hidden",
    "solution2_first": true
   },
   "outputs": [],
   "source": [
    "class UnsignedComparatorLogarithmic(bitWidth: Int) extends Comparator(bitWidth) {\n",
    "    ???\n",
    "}"
   ]
  },
  {
   "cell_type": "raw",
   "id": "014944b2",
   "metadata": {
    "solution2": "hidden"
   },
   "source": [
    "class UnsignedComparatorLogarithmic(bitWidth: Int) extends Comparator(bitWidth) {\n",
    "    if (bitWidth == 1) {\n",
    "        io.g := io.in1 & ~io.in2\n",
    "        // alternative: io.g := io.in1 > io.in2\n",
    "        io.q := ~(io.in1 ^ io.in2)\n",
    "        // alternative: io.q := io.in1 === io.in2\n",
    "    }\n",
    "    else {\n",
    "        val subcircuit1 = Module(new UnsignedComparatorLogarithmic(bitWidth - bitWidth/2))\n",
    "        subcircuit1.io.in1 := io.in1(bitWidth - 1, bitWidth/2)\n",
    "        subcircuit1.io.in2 := io.in2(bitWidth - 1, bitWidth/2)\n",
    "        val subcircuit2 = Module(new UnsignedComparatorLogarithmic(bitWidth/2))\n",
    "        subcircuit2.io.in1 := io.in1(bitWidth/2 - 1, 0)\n",
    "        subcircuit2.io.in2 := io.in2(bitWidth/2 - 1, 0)\n",
    "        when (subcircuit1.io.q) {\n",
    "            io.g := subcircuit2.io.g\n",
    "            io.q := subcircuit2.io.q\n",
    "        }\n",
    "        .elsewhen (subcircuit1.io.g) {\n",
    "            io.g := 1.B\n",
    "            io.q := 0.B\n",
    "        }\n",
    "        .otherwise {\n",
    "            io.g := 0.B\n",
    "            io.q := 0.B\n",
    "        }\n",
    "    }\n",
    "}"
   ]
  },
  {
   "cell_type": "markdown",
   "id": "609f13fa",
   "metadata": {},
   "source": [
    "#### Let's test your circuit exhaustively!"
   ]
  },
  {
   "cell_type": "code",
   "execution_count": null,
   "id": "aa8d7717",
   "metadata": {},
   "outputs": [],
   "source": [
    "comparatorTest(new UnsignedComparatorLogarithmic(6))"
   ]
  },
  {
   "cell_type": "markdown",
   "id": "b1b532eb",
   "metadata": {},
   "source": [
    "### Problem 1.2 - Comparator for Two's Complement Numbers\n",
    "Now, implement a comparator for binary numbers in two's complement representation. Think about how you can reuse your unsigned comparator from the previous exercise. Do it firstly in linear depth, then in logarithmic."
   ]
  },
  {
   "cell_type": "code",
   "execution_count": null,
   "id": "286db704",
   "metadata": {
    "solution2": "hidden",
    "solution2_first": true
   },
   "outputs": [],
   "source": [
    "abstract class SignedComparator(val bitWidth: Int) extends Module {\n",
    "    val io = IO(new Bundle {\n",
    "        val in1 = ?\n",
    "        val in2 = ?\n",
    "        val g = ?\n",
    "        val q = ?\n",
    "    })\n",
    "}"
   ]
  },
  {
   "cell_type": "raw",
   "id": "dbd44607",
   "metadata": {
    "solution2": "hidden"
   },
   "source": [
    "abstract class SignedComparator(val bitWidth: Int) extends Module {\n",
    "    val io = IO(new Bundle {\n",
    "        val in1 = Input(SInt(bitWidth.W))\n",
    "        val in2 = Input(SInt(bitWidth.W))\n",
    "        val g = Output(Bool())\n",
    "        val q = Output(Bool())\n",
    "    })\n",
    "}"
   ]
  },
  {
   "cell_type": "code",
   "execution_count": null,
   "id": "1a0d6ca0",
   "metadata": {
    "solution2": "hidden",
    "solution2_first": true
   },
   "outputs": [],
   "source": [
    "def signedComparatorTest(compGen: => SignedComparator) {\n",
    "    test(compGen) { dut =>\n",
    "        val bitWidth = dut.bitWidth\n",
    "        val maxValue = ?\n",
    "        val minValue = ?\n",
    "        for (i <- ?) {\n",
    "            for (j <- ?) {\n",
    "                dut.io.in1.poke(i.S)\n",
    "                dut.io.in2.poke(j.S)\n",
    "                dut.io.g.expect(?)\n",
    "                dut.io.q.expect(?)\n",
    "            }\n",
    "        }\n",
    "    }\n",
    "    println(\"Success!\")\n",
    "}"
   ]
  },
  {
   "cell_type": "raw",
   "id": "7fb1c8dd",
   "metadata": {
    "solution2": "hidden"
   },
   "source": [
    "def signedComparatorTest(compGen: => SignedComparator) {\n",
    "    test(compGen) { dut =>\n",
    "        val bitWidth = dut.bitWidth\n",
    "        val maxValue = (BigInt(1) << bitWidth - 1)   // maximum value given bitWidth\n",
    "        val minValue = - (BigInt(1) << bitWidth - 1) // minimum value given bitWidth\n",
    "        for (i <- minValue until maxValue) {\n",
    "            for (j <- minValue until maxValue) {\n",
    "                dut.io.in1.poke(i.S)\n",
    "                dut.io.in2.poke(j.S)\n",
    "                dut.io.g.expect((if (i > j) 1 else 0).U)\n",
    "                dut.io.q.expect((if (i == j) 1 else 0).U)\n",
    "            }\n",
    "        }\n",
    "    }\n",
    "    println(\"Success!\")\n",
    "}"
   ]
  },
  {
   "cell_type": "markdown",
   "id": "d0585468",
   "metadata": {},
   "source": [
    "#### Linear Depth"
   ]
  },
  {
   "cell_type": "code",
   "execution_count": null,
   "id": "decdc7e2",
   "metadata": {
    "solution2": "hidden",
    "solution2_first": true
   },
   "outputs": [],
   "source": [
    "class SignedComparatorLinear(bitWidth: Int) extends SignedComparator(bitWidth) {\n",
    "    if (bitWidth == 1) {\n",
    "        io.g := ?\n",
    "        io.q := ?\n",
    "    }\n",
    "    else {\n",
    "        ???\n",
    "    }\n",
    "}"
   ]
  },
  {
   "cell_type": "raw",
   "id": "a058e6a9",
   "metadata": {
    "solution2": "hidden"
   },
   "source": [
    "class SignedComparatorLinear(bitWidth: Int) extends SignedComparator(bitWidth) {\n",
    "    if (bitWidth == 1) {\n",
    "        io.g := ~io.in1 & io.in2\n",
    "        // alternative: io.g := io.in1 > io.in2\n",
    "        io.q := ~(io.in1 ^ io.in2)\n",
    "        // alternative: io.q := io.in1 === io.in2\n",
    "    }\n",
    "    else {\n",
    "        val unsignedComparator = Module(new UnsignedComparatorLinear(bitWidth))\n",
    "        unsignedComparator.io.in1 := io.in1(bitWidth - 2, 0)\n",
    "        unsignedComparator.io.in2 := io.in2(bitWidth - 2, 0)\n",
    "\n",
    "        when (io.in1(bitWidth - 1) === io.in2(bitWidth - 1)) {\n",
    "            io.g := unsignedComparator.io.g\n",
    "            io.q := unsignedComparator.io.q\n",
    "        }\n",
    "        .elsewhen (io.in1(bitWidth - 1)) {\n",
    "            io.g := 0.B\n",
    "            io.q := 0.B\n",
    "        }\n",
    "        .otherwise {\n",
    "            io.g := 1.B\n",
    "            io.q := 0.B\n",
    "        }\n",
    "    }\n",
    "}"
   ]
  },
  {
   "cell_type": "code",
   "execution_count": null,
   "id": "ac3c271c",
   "metadata": {},
   "outputs": [],
   "source": [
    "signedComparatorTest(new SignedComparatorLinear(5))"
   ]
  },
  {
   "cell_type": "markdown",
   "id": "c4571ae2",
   "metadata": {},
   "source": [
    "#### Logarithmic Depth\n",
    "Hint: You might want to reuse most of your linear implementation."
   ]
  },
  {
   "cell_type": "code",
   "execution_count": null,
   "id": "2facbebb",
   "metadata": {
    "solution2": "hidden",
    "solution2_first": true
   },
   "outputs": [],
   "source": [
    "class SignedComparatorLogarithmic(bitWidth: Int) extends SignedComparator(bitWidth) {\n",
    "    ???\n",
    "}"
   ]
  },
  {
   "cell_type": "raw",
   "id": "3c2eaa5c",
   "metadata": {
    "solution2": "hidden"
   },
   "source": [
    "class SignedComparatorLogarithmic(bitWidth: Int) extends SignedComparator(bitWidth) {\n",
    "    if (bitWidth == 1) {\n",
    "        io.g := ~io.in1 & io.in2\n",
    "        // alternative: io.g := io.in1 > io.in2\n",
    "        io.q := ~(io.in1 ^ io.in2)\n",
    "        // alternative: io.q := io.in1 === io.in2\n",
    "    }\n",
    "    else {\n",
    "        val unsignedComparator = Module(new UnsignedComparatorLogarithmic(bitWidth))\n",
    "        unsignedComparator.io.in1 := io.in1(bitWidth - 2, 0)\n",
    "        unsignedComparator.io.in2 := io.in2(bitWidth - 2, 0)\n",
    "\n",
    "        when (io.in1(bitWidth - 1) === io.in2(bitWidth - 1)) {\n",
    "            io.g := unsignedComparator.io.g\n",
    "            io.q := unsignedComparator.io.q\n",
    "        }\n",
    "        .elsewhen (io.in1(bitWidth - 1)) {\n",
    "            io.g := 0.B\n",
    "            io.q := 0.B\n",
    "        }\n",
    "        .otherwise {\n",
    "            io.g := 1.B\n",
    "            io.q := 0.B\n",
    "        }\n",
    "    }\n",
    "}"
   ]
  },
  {
   "cell_type": "code",
   "execution_count": null,
   "id": "ad8da68d",
   "metadata": {},
   "outputs": [],
   "source": [
    "signedComparatorTest(new SignedComparatorLogarithmic(8))"
   ]
  },
  {
   "cell_type": "markdown",
   "id": "07c7b580",
   "metadata": {},
   "source": [
    "We can clearly see that we can avoid a lot of redundancy here by using an abstract unsigned comparator"
   ]
  },
  {
   "cell_type": "code",
   "execution_count": null,
   "id": "fe12f920",
   "metadata": {
    "solution2": "hidden",
    "solution2_first": true
   },
   "outputs": [],
   "source": [
    "class SignedComparatorUsingComparator(bitWidth: Int, comparatorGen: Int => Comparator) extends SignedComparator(bitWidth) {\n",
    "    // hint: you can use 'comparatorGen(bitWidth)' to generate an instance of the selected comparator,\n",
    "    //       instead of using a constructor\n",
    "    ???\n",
    "}"
   ]
  },
  {
   "cell_type": "raw",
   "id": "70ddb608",
   "metadata": {
    "solution2": "hidden"
   },
   "source": [
    "class SignedComparatorUsingComparator(bitWidth: Int, comparatorGen: Int => Comparator) extends SignedComparator(bitWidth) {\n",
    "    if (bitWidth == 1) {\n",
    "        io.g := ~io.in1 & io.in2\n",
    "        // alternative: io.g := io.in1 > io.in2\n",
    "        io.q := ~(io.in1 ^ io.in2)\n",
    "        // alternative: io.q := io.in1 === io.in2\n",
    "    }\n",
    "    else {\n",
    "        val unsignedComparator = Module(comparatorGen(bitWidth))\n",
    "        unsignedComparator.io.in1 := io.in1(bitWidth - 2, 0)\n",
    "        unsignedComparator.io.in2 := io.in2(bitWidth - 2, 0)\n",
    "        \n",
    "        when (io.in1(bitWidth - 1) === io.in2(bitWidth - 1)) {\n",
    "            io.g := unsignedComparator.io.g\n",
    "            io.q := unsignedComparator.io.q\n",
    "        }\n",
    "        .elsewhen (io.in1(bitWidth - 1)) {\n",
    "            io.g := 0.B\n",
    "            io.q := 0.B\n",
    "        }\n",
    "        .otherwise {\n",
    "            io.g := 1.B\n",
    "            io.q := 0.B\n",
    "        }\n",
    "    }\n",
    "}"
   ]
  },
  {
   "cell_type": "code",
   "execution_count": null,
   "id": "5a401254",
   "metadata": {},
   "outputs": [],
   "source": [
    "val conLin = ((n: Int) => new UnsignedComparatorLinear(n))\n",
    "val conLog = ((n: Int) => new UnsignedComparatorLogarithmic(n))\n",
    "\n",
    "signedComparatorTest(new SignedComparatorUsingComparator(5, conLin))\n",
    "signedComparatorTest(new SignedComparatorUsingComparator(5, conLog))"
   ]
  },
  {
   "cell_type": "markdown",
   "id": "bdf45769",
   "metadata": {},
   "source": [
    "## Problem 2 - ALU\n",
    "It is highly advised to firstly solve Problem 5.3 from Assignment 5. This exercise will guide you through implementation of ALU designed by you."
   ]
  },
  {
   "cell_type": "markdown",
   "id": "6efa43e0",
   "metadata": {},
   "source": [
    "### Problem 2.1 - Equals to 0\n",
    "Firstly, you will implement part (a) from Problem 5.2. That is, a recursive circuit that outputs $1$ iff every bit of an input sequence is $0$. "
   ]
  },
  {
   "cell_type": "code",
   "execution_count": null,
   "id": "0286d9c1",
   "metadata": {
    "solution2": "hidden",
    "solution2_first": true
   },
   "outputs": [],
   "source": [
    "class EqualsZero(val bitWidth : Int) extends Module {\n",
    "    val io = IO(new Bundle{\n",
    "        val in = ???\n",
    "        val out = ???\n",
    "    })\n",
    "    if (bitWidth == 1) {\n",
    "        io.out := ???\n",
    "    } else {\n",
    "        ???\n",
    "    }\n",
    "}"
   ]
  },
  {
   "cell_type": "raw",
   "id": "1e7ec66c",
   "metadata": {
    "solution2": "hidden"
   },
   "source": [
    "class EqualsZero(val bitWidth : Int) extends Module {\n",
    "    val io = IO(new Bundle{\n",
    "        val in = Input(UInt(bitWidth.W))\n",
    "        val out = Output(Bool())\n",
    "    })\n",
    "    if (bitWidth == 1) {\n",
    "        io.out := ~io.in;\n",
    "    } else {\n",
    "        val equalsZeroRec1 = Module(new EqualsZero(bitWidth - bitWidth/2))\n",
    "        val equalsZeroRec2 = Module(new EqualsZero(bitWidth/2))\n",
    "        \n",
    "        equalsZeroRec1.io.in := io.in(bitWidth - 1, bitWidth/2)\n",
    "        equalsZeroRec2.io.in := io.in(bitWidth/2 - 1, 0)\n",
    "        \n",
    "        io.out := equalsZeroRec1.io.out & equalsZeroRec2.io.out\n",
    "    }\n",
    "}"
   ]
  },
  {
   "cell_type": "code",
   "execution_count": null,
   "id": "29e01b6f",
   "metadata": {
    "solution2": "hidden",
    "solution2_first": true
   },
   "outputs": [],
   "source": [
    "def testEqualsZero (EqualsZeroGen: => EqualsZero) {\n",
    "    test (EqualsZeroGen) { dut => \n",
    "        val bitWidth = dut.bitWidth\n",
    "        val maxValue = ???\n",
    "        for (i <- ???) {\n",
    "            dut.io.in.poke(i.U)\n",
    "            dut.io.out.expect(???)\n",
    "        }\n",
    "    }\n",
    "    println(\"Success!\")\n",
    "}"
   ]
  },
  {
   "cell_type": "raw",
   "id": "e5a5732b",
   "metadata": {
    "solution2": "hidden"
   },
   "source": [
    "def testEqualsZero (EqualsZeroGen: => EqualsZero) {\n",
    "    test (EqualsZeroGen) { dut => \n",
    "        val bitWidth = dut.bitWidth\n",
    "        val maxValue = (BigInt(1) << bitWidth) - 1  //maximum value given bitWidth\n",
    "        for (i <- BigInt(0) until maxValue) {\n",
    "            dut.io.in.poke(i.U)\n",
    "            dut.io.out.expect((if (i == BigInt(0)) 1 else 0).B)\n",
    "        }\n",
    "    }\n",
    "    println(\"Success!\")\n",
    "}"
   ]
  },
  {
   "cell_type": "code",
   "execution_count": null,
   "id": "a7a363a6",
   "metadata": {},
   "outputs": [],
   "source": [
    "testEqualsZero(new EqualsZero(5))"
   ]
  },
  {
   "cell_type": "markdown",
   "id": "cee6ccb8",
   "metadata": {},
   "source": [
    "### Problem 2.2 - ALU extension\n",
    "Again, it is highly advised to firstly solve Problem 5.3 from Assignment 5. Now as you designed the ALU, it is time to implement it in Chisel. You have to extend the existing ALU from the lecture, so make sure, you don't break it! Think about how you can reuse the comparators that you have already implemented."
   ]
  },
  {
   "cell_type": "code",
   "execution_count": null,
   "id": "db09eea2",
   "metadata": {
    "solution2": "hidden",
    "solution2_first": true
   },
   "outputs": [],
   "source": [
    " class ALU(width: Int, adderDef: Definition[Adder], comparatorGen: Int => SignedComparator) extends Module {\n",
    "    val io = IO(new Bundle {\n",
    "        val a = Input(Bits(width.W))\n",
    "        val b = Input(Bits(width.W))\n",
    "        val c = Input(Bool())\n",
    "        val s = Input(Bits(???))\n",
    "        val result = Output(Bits((width+1).W))\n",
    "    })\n",
    "    val adder = Instance(adderDef)\n",
    "\n",
    "    adder.io.a := io.a.asUInt ^ Fill(width, !io.s(1))\n",
    "    adder.io.b := io.b.asUInt ^ Fill(width, !io.s(0))\n",
    "    adder.io.cin := (io.s(1) ^ io.s(0)) || io.c\n",
    "\n",
    "    val arithmeticOut = Mux(io.s(0) || io.s(1), adder.io.sum, Fill(width+1, 0.U))\n",
    "    val logicOut = Mux(io.s(0), Mux(io.s(1), Fill(width+1, 1.B), Cat(0.B, io.a | io.b)), \n",
    "                       Cat(0.B, Mux(io.s(1), io.a & io.b, io.a ^ io.b)))\n",
    "     \n",
    "    io.result := Mux(io.s(2), logicOut, arithmeticOut)\n",
    "}"
   ]
  },
  {
   "cell_type": "raw",
   "id": "66cc1071",
   "metadata": {
    "solution2": "hidden"
   },
   "source": [
    " class ALU(width: Int, adderDef: Definition[Adder], comparatorGen: Int => SignedComparator) extends Module {\n",
    "    val io = IO(new Bundle {\n",
    "        val a = Input(Bits(width.W))\n",
    "        val b = Input(Bits(width.W))\n",
    "        val c = Input(Bool())\n",
    "        val s = Input(Bits(4.W))\n",
    "        val result = Output(Bits((width+1).W))\n",
    "    })\n",
    "    val adder = Instance(adderDef)\n",
    "\n",
    "    adder.io.a := io.a.asUInt ^ Fill(width, !io.s(1))\n",
    "    adder.io.b := io.b.asUInt ^ Fill(width, !io.s(0))\n",
    "    adder.io.cin := (io.s(1) ^ io.s(0)) || io.c\n",
    "\n",
    "    val arithmeticOut = Mux(io.s(0) || io.s(1), adder.io.sum, Fill(width+1, 0.U))\n",
    "    val logicOut = Mux(io.s(0), Mux(io.s(1), Fill(width+1, 1.B), Cat(0.B, io.a | io.b)), Cat(0.B, Mux(io.s(1), io.a & io.b, io.a ^ io.b)))\n",
    "    \n",
    "    val comparisonOut = Wire(Bool())\n",
    "    comparisonOut := 0.B\n",
    "    val comparator = Module(comparatorGen(width))\n",
    "     \n",
    "    comparator.io.in1 := io.a.asSInt\n",
    "    comparator.io.in2 := io.b.asSInt\n",
    "     \n",
    "    val q = comparator.io.q\n",
    "    val g = comparator.io.g\n",
    "     \n",
    "    switch(io.s(2, 0)) {\n",
    "        is(0.U) {\n",
    "            comparisonOut := 0.B\n",
    "        }\n",
    "        is(1.U) {\n",
    "            comparisonOut := q\n",
    "        }\n",
    "        is(2.U) {\n",
    "            comparisonOut := !(q || g)\n",
    "        }\n",
    "        is(3.U) {\n",
    "            comparisonOut := !g\n",
    "        }\n",
    "        is(4.U) {\n",
    "            comparisonOut := 1.B\n",
    "        }\n",
    "        is(5.U) {\n",
    "            comparisonOut := !q\n",
    "        }\n",
    "        is(6.U) {\n",
    "            comparisonOut := q || g\n",
    "        }\n",
    "        is(7.U) {\n",
    "            comparisonOut := g\n",
    "        }\n",
    "    }\n",
    "    \n",
    "     \n",
    "    io.result := Mux(io.s(3), comparisonOut, Mux(io.s(2), logicOut, arithmeticOut))\n",
    "}\n"
   ]
  },
  {
   "cell_type": "markdown",
   "id": "c6599d33",
   "metadata": {},
   "source": [
    "Now, implement tests for comparisons. Feel free to take a look at tests for ALU from the lecture to get some inspiration."
   ]
  },
  {
   "cell_type": "code",
   "execution_count": null,
   "id": "e518b0fc",
   "metadata": {
    "solution2": "hidden",
    "solution2_first": true
   },
   "outputs": [],
   "source": [
    "def randomALUComparisonTest(\n",
    "      aluGen: => ALU,\n",
    "      bitWidth: Int,\n",
    "      numberOfTests: Int\n",
    "  ): TestResult = {\n",
    "    test(aluGen) { c =>\n",
    "      val rand = new Random\n",
    "      for (_ <- 1 to numberOfTests) {\n",
    "        setRandomInput(c.io, rand)\n",
    "          \n",
    "        c.io.s.poke(???)\n",
    "        var a = c.io.a.peekInt()\n",
    "        var b = c.io.b.peekInt()\n",
    "        var comparisonResult = ???\n",
    "        c.io.result.expect(comparisonResult)\n",
    "          \n",
    "        ???\n",
    "      }\n",
    "      println(\"Success!\")\n",
    "    }\n",
    "}"
   ]
  },
  {
   "cell_type": "raw",
   "id": "4245f7ec",
   "metadata": {
    "solution2": "hidden"
   },
   "source": [
    "def randomALUComparisonTest(\n",
    "      aluGen: => ALU,\n",
    "      bitWidth: Int,\n",
    "      numberOfTests: Int\n",
    "  ): TestResult = {\n",
    "    test(aluGen) { c =>\n",
    "      val rand = new Random\n",
    "      for (_ <- 1 to numberOfTests) {\n",
    "        setRandomInput(c.io, rand)\n",
    "          \n",
    "        c.io.s.poke(9.U)   // =\n",
    "        var a = c.io.a.peekInt()\n",
    "        var b = c.io.b.peekInt()\n",
    "        var comparisonResult = (a == b).B\n",
    "        c.io.result.expect(comparisonResult)\n",
    "        \n",
    "        c.io.s.poke(10.U)  // <\n",
    "        a = c.io.a.peekInt()\n",
    "        a = a - a.testBit(bitWidth-1).toInt * (1 << bitWidth) // convert from unsigned to two's complement\n",
    "        b = c.io.b.peekInt()\n",
    "        b = b - b.testBit(bitWidth-1).toInt * (1 << bitWidth)\n",
    "        comparisonResult = ((a < b).B)\n",
    "        c.io.result.expect(comparisonResult)\n",
    "          \n",
    "        c.io.s.poke(11.U)  // <=\n",
    "        a = c.io.a.peekInt()\n",
    "        a = a - a.testBit(bitWidth-1).toInt * (1 << bitWidth)\n",
    "        b = c.io.b.peekInt()\n",
    "        b = b - b.testBit(bitWidth-1).toInt * (1 << bitWidth)\n",
    "        comparisonResult = ((a <= b).B)\n",
    "        c.io.result.expect(comparisonResult)\n",
    "          \n",
    "        c.io.s.poke(13.U)  // !=\n",
    "        a = c.io.a.peekInt()\n",
    "        b = c.io.b.peekInt()\n",
    "        comparisonResult = ((a != b).B)\n",
    "        c.io.result.expect(comparisonResult)\n",
    "          \n",
    "        c.io.s.poke(14.U)  // >=\n",
    "        a = c.io.a.peekInt()\n",
    "        a = a - a.testBit(bitWidth-1).toInt * (1 << bitWidth)\n",
    "        b = c.io.b.peekInt()\n",
    "        b = b - b.testBit(bitWidth-1).toInt * (1 << bitWidth)\n",
    "        comparisonResult = ((a >= b).B)\n",
    "        c.io.result.expect(comparisonResult)\n",
    "        \n",
    "        c.io.s.poke(15.U)  // >\n",
    "        a = c.io.a.peekInt()\n",
    "        a = a - a.testBit(bitWidth-1).toInt * (1 << bitWidth)\n",
    "        b = c.io.b.peekInt()\n",
    "        b = b - b.testBit(bitWidth-1).toInt * (1 << bitWidth)\n",
    "        comparisonResult = ((a > b).B)\n",
    "        c.io.result.expect(comparisonResult)\n",
    "      }\n",
    "      println(\"Success!\")\n",
    "    }\n",
    "}"
   ]
  },
  {
   "cell_type": "code",
   "execution_count": null,
   "id": "aa3a6212",
   "metadata": {},
   "outputs": [],
   "source": [
    "val signedCompGen = ((n: Int) => new SignedComparatorLogarithmic(n))\n",
    "\n",
    "randomALUComparisonTest(new ALU(8, Definition(new RippleCarryAdder(8)), signedCompGen), 8, 10)"
   ]
  }
 ],
 "metadata": {
  "celltoolbar": "Edit Metadata",
  "kernelspec": {
   "display_name": "Scala",
   "language": "scala",
   "name": "scala"
  },
  "language_info": {
   "codemirror_mode": "text/x-scala",
   "file_extension": ".sc",
   "mimetype": "text/x-scala",
   "name": "scala",
   "nbconvert_exporter": "script",
   "version": "2.13.10"
  }
 },
 "nbformat": 4,
 "nbformat_minor": 5
}
