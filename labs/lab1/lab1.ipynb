{
 "cells": [
  {
   "cell_type": "markdown",
   "id": "cce925e9",
   "metadata": {
    "deletable": false,
    "editable": false
   },
   "source": [
    "<div style=\"background: linear-gradient(45deg, #aaa, #eee, #fff, #eee, #fff, #eee, #aaa);\n",
    "  text-align: center;\n",
    "  padding-top: 25px;\n",
    "            padding-bottom: 25px;\"><h1 style =\"font-size: 30px;\">Lab 1:</h1><h2>✨ Intro to Scala and Chisel ✨</h2></div>\n",
    "<div style=\"font-size: 15px;\">\n",
    "Labs will allow you to work with the practical exercises. Doing them now will greatly help you in the first project. They are intended to provide examples/practice on specific and isolated features in the language. Labs are not graded.\n",
    "</div>"
   ]
  },
  {
   "cell_type": "markdown",
   "id": "equal-helen",
   "metadata": {
    "deletable": false,
    "editable": false
   },
   "source": [
    "### Import the necessary Chisel dependencies. \n",
    "> There will be a cell like this in every lab. Make sure you run it before proceeding to bring the Chisel Library into the Jupyter Notebook scope!"
   ]
  },
  {
   "cell_type": "code",
   "execution_count": null,
   "id": "framed-coffee",
   "metadata": {
    "deletable": false,
    "editable": false
   },
   "outputs": [],
   "source": [
    "interp.load.module(os.Path(s\"${System.getProperty(\"user.dir\")}/../resource/chisel_deps.sc\"))"
   ]
  },
  {
   "cell_type": "code",
   "execution_count": null,
   "id": "registered-expression",
   "metadata": {
    "deletable": false,
    "editable": false,
    "scrolled": true
   },
   "outputs": [],
   "source": [
    "import chisel3._\n",
    "import chisel3.util._\n",
    "import chiseltest._\n",
    "import chiseltest.RawTester.test"
   ]
  },
  {
   "cell_type": "markdown",
   "id": "ff3a84a0",
   "metadata": {
    "deletable": false,
    "editable": false
   },
   "source": [
    "## Problem 0 - Using Scala\n",
    "\n",
    "Scala is a language that supports multiple paradigms, most importantly object-oriented programming (OOP) and functional programming (FP).\n",
    "\n",
    "This versatility proves invaluable for designing circuits with Chisel, but it's crucial to understand how to wield these tools effectively to leverage their full potential and enhance your circuit design capabilities in more natural, compact, and generic ways.\n",
    "\n",
    "There are indeed numerous tools at your disposal, but we'll only cover a few important ones here. This allows us to revisit and enhance our Scala skills whenever we're designing hardware in Chisel."
   ]
  },
  {
   "cell_type": "markdown",
   "id": "eb07222e",
   "metadata": {
    "deletable": false,
    "editable": false
   },
   "source": [
    "### 0.1 OOP\n",
    "\n",
    "We'll be employing **object-oriented programming (OOP)** extensively in our Chisel endeavors.\n",
    "\n",
    "OOP provides us with a robust framework for modeling the relationships and behaviors of our circuit components. This approach is particularly advantageous for creating hierarchies and abstractions within our designs.\n",
    "\n",
    "By encapsulating functionality within objects and defining interactions through methods and inheritance, we can create modular and reusable components. This not only enhances code organization but also promotes code reuse and simplifies maintenance efforts.\n",
    "\n",
    "Additionally, OOP facilitates the implementation of design patterns, allowing us to address common design challenges effectively. Through the use of concepts such as encapsulation, polymorphism, and inheritance, we can build scalable and adaptable circuit designs."
   ]
  },
  {
   "cell_type": "markdown",
   "id": "fede7a84",
   "metadata": {
    "deletable": false,
    "editable": false
   },
   "source": [
    "#### 0.1.1 Classes\n",
    "\n",
    "Classes are our main way to model objects, since they give the very definition of what our objects are.\n",
    "\n",
    "Here, we explore some straightforward examples to illustrate class usage. Later, we'll delve into more advanced features in later labs."
   ]
  },
  {
   "cell_type": "code",
   "execution_count": null,
   "id": "68aea596",
   "metadata": {
    "deletable": false,
    "editable": false
   },
   "outputs": [],
   "source": [
    "class MyFirstClass{}"
   ]
  },
  {
   "cell_type": "markdown",
   "id": "9ae16740",
   "metadata": {
    "deletable": false,
    "editable": false
   },
   "source": [
    "This is a very simple class, in fact this is the simplest example of a class that we can come up with.\n",
    "\n",
    "Nevertheless it is still a class modelling a concept called `MyFirstClass`, that is its **class name**.\n",
    "\n",
    "Let's get more concrete:"
   ]
  },
  {
   "cell_type": "code",
   "execution_count": null,
   "id": "c72d57e3",
   "metadata": {
    "deletable": false,
    "editable": false
   },
   "outputs": [],
   "source": [
    "class Person(val name: String, val age: Integer) {\n",
    "}"
   ]
  },
  {
   "cell_type": "markdown",
   "id": "a4aa9e5b",
   "metadata": {
    "deletable": false,
    "editable": false
   },
   "source": [
    "This class represents a more tangible concept: a Person. It serves as a blueprint defining the structure of a person object.\n",
    "\n",
    "However, it's important to note that a person is more complex than just a name and an age. Nonetheless, this simplicity is a virtue of abstraction. We model only the information relevant to our current needs, with the flexibility to extend or specialize the concept as required. See:"
   ]
  },
  {
   "cell_type": "code",
   "execution_count": null,
   "id": "9516979b",
   "metadata": {
    "deletable": false,
    "editable": false
   },
   "outputs": [],
   "source": [
    "class Athlete(name: String, age: Integer) extends Person(name, age) {\n",
    "    val speed: Integer = if (age < 21) {\n",
    "        age\n",
    "    } else {\n",
    "        5.max((21 - (age - 21) * 0.5).toInt)\n",
    "    }\n",
    "}\n",
    "\n",
    "class Baby(name: String) extends Person(name, 0) {\n",
    "    def cry() {\n",
    "        print(\"Waaahhh!\")\n",
    "    }\n",
    "}"
   ]
  },
  {
   "cell_type": "markdown",
   "id": "13421b0d",
   "metadata": {
    "deletable": false,
    "editable": false
   },
   "source": [
    "Let's dissect this:\n",
    "\n",
    "- An Athlete is a specialized type of person. Although they inherit characteristics from the Person class, their unique trait is their speed, which depends on their age. In our abstraction, a regular person doesn't possess a speed attribute, making it a distinctive feature of an Athlete.\n",
    "\n",
    "- A Baby is a distinct category of person, defined as being of age 0. By extending Person(name, 0), every Baby object is instantiated with an age of 0.\n",
    "\n",
    "Here is an example:"
   ]
  },
  {
   "cell_type": "code",
   "execution_count": null,
   "id": "a334bff3",
   "metadata": {
    "deletable": false,
    "editable": false
   },
   "outputs": [],
   "source": [
    "val runnerA = new Athlete(\"Petra\", 17)\n",
    "val runnerB = new Athlete(\"John\", 30)\n",
    "val runnerC = new Athlete(\"Winston\", 101)\n",
    "\n",
    "runnerA.speed\n",
    "runnerB.speed\n",
    "runnerC.speed\n",
    "\n",
    "val baby = new Baby(\"Emma\")\n",
    "\n",
    "baby.cry\n",
    "baby.age"
   ]
  },
  {
   "cell_type": "markdown",
   "id": "df1f8b26",
   "metadata": {
    "deletable": false,
    "editable": false
   },
   "source": [
    "See more here: https://docs.scala-lang.org/tour/classes.html"
   ]
  },
  {
   "cell_type": "markdown",
   "id": "94d2f1d8",
   "metadata": {
    "deletable": false,
    "editable": false
   },
   "source": [
    "#### 0.1.2 Anonymous Classes: Flexible Instantiation of Objects\n",
    "In Scala, anonymous classes provide a concise and flexible way to instantiate objects on-the-fly, without the need to explicitly define a named class. They are particularly useful for creating one-off instances of classes or interfaces, often used in scenarios such as overriding methods and customized object creation.\n",
    "\n",
    "Anonymous classes are defined inline using the `new` keyword followed by the class you want to instantiate, along with any necessary method implementations or overrides enclosed in curly braces {}. Here's an example illustrating the syntax:"
   ]
  },
  {
   "cell_type": "code",
   "execution_count": null,
   "id": "612709ee",
   "metadata": {
    "deletable": false,
    "editable": false
   },
   "outputs": [],
   "source": [
    "val usain = new Athlete(\"Usain Bolt\", 37){\n",
    "    override val speed = 45\n",
    "}\n",
    "\n",
    "val steve = new Athlete(\"Steve\", 37)\n",
    "\n",
    "usain.speed\n",
    "steve.speed"
   ]
  },
  {
   "cell_type": "markdown",
   "id": "d73bf5c0",
   "metadata": {
    "deletable": false,
    "editable": false
   },
   "source": [
    "You can see Usain Bolt is literally built different! This is a perfect use case for an anonymous class."
   ]
  },
  {
   "cell_type": "markdown",
   "id": "2a5287de",
   "metadata": {
    "deletable": false,
    "editable": false
   },
   "source": [
    "### 0.2 FP\n",
    "\n",
    "**Functional programming (FP)** is another powerful paradigm we'll utilize in Chisel.\n",
    "\n",
    "FP emphasizes immutability and the use of pure functions, enabling concise and predictable circuit designs. By leveraging FP principles, we can enhance modularity and facilitate easier debugging and testing processes.\n",
    "\n",
    "The following two examples should look familiar to you if you already passed Programming 1. However, it is a great way to learn Scala syntax. \n",
    "\n",
    "We declare a function pythagoras : Double $\\to$ Double $\\to$ Double, which, given the length of two sides $a,b$ of a\n",
    "triangle, computes the third one $c$ with the theorem of Pythagoras $a^2+b^2=c^2$."
   ]
  },
  {
   "cell_type": "code",
   "execution_count": null,
   "id": "92e81edb",
   "metadata": {
    "deletable": false,
    "editable": false
   },
   "outputs": [],
   "source": [
    "def pythagoras(a: Double, b: Double): Double = {\n",
    "    math.sqrt((a*a + b*b))\n",
    "}\n",
    "println(pythagoras(6, 8))"
   ]
  },
  {
   "cell_type": "markdown",
   "id": "78e6e307",
   "metadata": {
    "deletable": false,
    "editable": false
   },
   "source": [
    "The following example shows how to work with lists in Scala. They look very similar to OCaml.\n",
    "\n",
    "We define a function insert : Int $\\to$ Int $\\to$ List[Int] $\\to$ List[Int]. That takes a value to insert in the list, the position counting from $0$ and the List itself. If the position exceeds the length of the List throw an exception."
   ]
  },
  {
   "cell_type": "code",
   "execution_count": null,
   "id": "8ac5c9d1",
   "metadata": {
    "deletable": false,
    "editable": false
   },
   "outputs": [],
   "source": [
    "def insert(x: Int, i: Int, l: List[Int]) : List[Int] = l match{\n",
    "    case Nil => if (i <= 0) { List(x) } else { throw new Exception(\"InvalidArgument\") }\n",
    "    case (hd:Int) :: (tl:List[Int]) => \n",
    "    if (i <= 0) {\n",
    "        x::hd::tl;\n",
    "    } else {\n",
    "        hd::insert(x, i-1, tl)\n",
    "    }\n",
    "}\n",
    "println(insert(4, 2, List(1, 3)))"
   ]
  },
  {
   "cell_type": "markdown",
   "id": "28caac84",
   "metadata": {
    "deletable": false,
    "editable": false
   },
   "source": [
    "We can generalize the above `insert` function to a more generic function that operates on lists of arbitrary types:"
   ]
  },
  {
   "cell_type": "code",
   "execution_count": null,
   "id": "115883ac",
   "metadata": {
    "deletable": false,
    "editable": false
   },
   "outputs": [],
   "source": [
    "def my_insert_function[T](x:T, i:Int, l:List[T]) : List[T] = l match{\n",
    "    case Nil => if (i <= 0) List(x) else throw new Exception(\"InvalidArgument\")\n",
    "    case (hd:T) :: (tl:List[T]) => \n",
    "    if (i <= 0) {\n",
    "        x::hd::tl\n",
    "    } else {\n",
    "        hd::my_insert_function(x, i-1, tl)\n",
    "    }\n",
    "}"
   ]
  },
  {
   "cell_type": "code",
   "execution_count": null,
   "id": "da8137a4",
   "metadata": {
    "deletable": false
   },
   "outputs": [],
   "source": [
    "my_insert_function(4, 2, List(1, 3))\n",
    "my_insert_function(\"4\", 2, List(\"1\", \"3\"))\n",
    "my_insert_function(true, 1, List(false, false))"
   ]
  },
  {
   "cell_type": "markdown",
   "id": "77e7a866",
   "metadata": {
    "deletable": false,
    "editable": false
   },
   "source": [
    "<div style=\"background: linear-gradient(45deg, #aaa, #eee, #fff, #eee, #fff, #eee, #aaa);\n",
    "  text-align: center;\n",
    "  padding-top: 10px;\n",
    "            padding-bottom: 10px;\"><span style =\"font-size: 30px;\">⚠️ Advanced Topic ⚠️</span></div>\n",
    "            \n",
    "In this section, we introduce an advanced concept: implicit classes. Implicit classes provide a concise way to extend existing classes with new functionality, without explicitly subclassing them. Here's how it works:\n",
    "\n",
    "We define an implicit class `MyList` that takes a list of type `T` as its parameter.\n",
    "Within `MyList`, we define a method `my_insert_method` that delegates to the `my_insert_function` that we defined earlier, allowing users to insert elements into lists directly.\n",
    "By making `MyList` implicit, Scala automatically applies it when the method `my_insert_method` is called on a list. \n",
    "This allows us to seamlessly extend the functionality of lists without modifying their original definition.\n",
    "In other words, an object of type `List[T]` is implicitly used to create an object of type `MyList[T]` so that the `my_insert_method` can be applied.\n",
    "\n",
    "The usage examples below demonstrate how to use the `my_insert_method` directly on a list or by explicitly wrapping the list in a `MyList` instance.\n",
    "Implicit classes are a powerful feature in Scala, enabling concise and expressive code while maintaining flexibility and readability. They are particularly useful for enhancing existing classes with new methods or functionality in a seamless manner."
   ]
  },
  {
   "cell_type": "code",
   "execution_count": null,
   "id": "4450f428",
   "metadata": {
    "deletable": false,
    "editable": false
   },
   "outputs": [],
   "source": [
    "implicit class MyList[T](val list: List[T]) {\n",
    "    def my_insert_method[T](x:T, i:Int): List[T] = list match{\n",
    "        case Nil => if (i <= 0) List(x) else throw new Exception(\"InvalidArgument\")\n",
    "        case (hd:T) :: (tl:List[T]) => \n",
    "        if (i <= 0) {\n",
    "            x::hd::tl\n",
    "        } else {\n",
    "            hd::my_insert_function(x, i-1, tl)\n",
    "        }\n",
    "    }\n",
    "}"
   ]
  },
  {
   "cell_type": "code",
   "execution_count": null,
   "id": "e11045fd",
   "metadata": {
    "deletable": false,
    "scrolled": true
   },
   "outputs": [],
   "source": [
    "val list = List(false, false)\n",
    "\n",
    "list.my_insert_method(true, 1)\n",
    "new MyList(list).my_insert_method(true, 1) // same"
   ]
  },
  {
   "cell_type": "markdown",
   "id": "8d5b3c4d",
   "metadata": {
    "deletable": false,
    "editable": false
   },
   "source": [
    "### 0.3 Imperative Programming\n",
    "\n",
    "In the following example, we switch from functional to imperative programming. Again, the problem should be familiar to you from the second part of Programming 1, where imperative programming was introduced.\n",
    "\n",
    "Let's define a function fib: Int $\\to$ BigInt that, given an Int, outputs the corresponding number from the Fibonacci sequence. The base cases are: $0 \\to 0$ and $1 \\to 1$.\n",
    "\n",
    "As we know, if we use basic recursion, the implementation very quickly runs out of space. Hence, we will use a for loop and imperatively calculate the Fibonacci sequence:"
   ]
  },
  {
   "cell_type": "code",
   "execution_count": null,
   "id": "253cbbc8",
   "metadata": {
    "deletable": false,
    "editable": false
   },
   "outputs": [],
   "source": [
    "def fib(x: Int) : BigInt = {\n",
    "    if (x < 2) {\n",
    "        return x\n",
    "    }\n",
    "    var a: BigInt = 0\n",
    "    var b: BigInt = 1\n",
    "    for (i: Int <- 2 until x+1) {\n",
    "    //for (i: Int <- 2 to x) {          //alternative 1\n",
    "    //for (i: Int <- Range(2, x+1)) {   //alternative 2\n",
    "        val tmp = a + b\n",
    "        a = b\n",
    "        b = tmp\n",
    "    }\n",
    "    b\n",
    "}"
   ]
  },
  {
   "cell_type": "markdown",
   "id": "793bd1fe",
   "metadata": {},
   "source": [
    "Here is an equivalent functional definition:"
   ]
  },
  {
   "cell_type": "code",
   "execution_count": null,
   "id": "f975c52a",
   "metadata": {
    "deletable": false,
    "editable": false
   },
   "outputs": [],
   "source": [
    "def fib_func(x: Int):BigInt = {\n",
    "    if (x < 2) x\n",
    "    def fib_anon (a: BigInt, b: BigInt, n: Int): BigInt = if (n < 2) {\n",
    "        b\n",
    "    } else {\n",
    "        fib_anon(b, a + b, n - 1)\n",
    "    }\n",
    "    fib_anon(0, 1, x)\n",
    "}"
   ]
  },
  {
   "cell_type": "code",
   "execution_count": null,
   "id": "dfac9c12",
   "metadata": {
    "deletable": false
   },
   "outputs": [],
   "source": [
    "fib(100)\n",
    "fib_func(100)\n",
    "fib(1)\n",
    "fib_func(1)"
   ]
  },
  {
   "cell_type": "markdown",
   "id": "restricted-feelings",
   "metadata": {
    "deletable": false,
    "editable": false
   },
   "source": [
    "## Problem 1 - Writing a Chisel Module's IO\n",
    "To write a Chisel module you need to extend the `Module` class from the Chisel Project.\n",
    "\n",
    "Typically, this involves creating an `io` interface within the module, structured as follows:\n",
    "```\n",
    "val io = IO(new Bundle{\n",
    "    val input1 = Input(...)\n",
    "    val input2 = Input(...)\n",
    "    ...\n",
    "    val output1 = Output(...)\n",
    "    val output2 = Output(...)\n",
    "    ...\n",
    "    })\n",
    "```\n",
    "\n",
    "In this snippet, the IO method initializes the interface, encapsulating inputs and outputs within a Bundle. Here, we utilize an anonymous Bundle class, since we are not going to reuse this interface for anything else.\n",
    "\n",
    "> Fill in the IO in the module such that it takes two 4-bit `UInt`s as input and returns a 5-bit sum as output. "
   ]
  },
  {
   "cell_type": "code",
   "execution_count": null,
   "id": "6a622592",
   "metadata": {
    "deletable": false,
    "solution2": "hidden",
    "solution2_first": true
   },
   "outputs": [],
   "source": [
    "class AddTwo extends Module {\n",
    "    val io = ???\n",
    "    // YOUR CODE HERE\n",
    "    ???\n",
    "    \n",
    "    io.out := io.in1 +& io.in2\n",
    "}"
   ]
  },
  {
   "cell_type": "raw",
   "id": "f8ba9b09",
   "metadata": {
    "deletable": false,
    "editable": false,
    "solution2": "hidden"
   },
   "source": [
    "class AddTwo extends Module {\n",
    "    val io = IO(new Bundle{\n",
    "        val in1 = Input(UInt(4.W))\n",
    "        val in2 = Input(UInt(4.W))\n",
    "        val out = Output(UInt(5.W))\n",
    "    })\n",
    "    \n",
    "    io.out := io.in1 +& io.in2\n",
    "}"
   ]
  },
  {
   "cell_type": "code",
   "execution_count": null,
   "id": "recent-scoop",
   "metadata": {
    "deletable": false,
    "editable": false
   },
   "outputs": [],
   "source": [
    "def testAddTwo: Boolean = {\n",
    "    test(new AddTwo) { c =>\n",
    "        for (i <- 0 until 16) {\n",
    "            for (j <- 0 until 16) {\n",
    "                c.io.in1.poke(i.U)\n",
    "                c.io.in2.poke(j.U)\n",
    "                c.io.out.expect((i+j).U)\n",
    "            }\n",
    "        }\n",
    "    }\n",
    "    true\n",
    "}\n",
    "\n",
    "assert(testAddTwo)"
   ]
  },
  {
   "cell_type": "markdown",
   "id": "educated-order",
   "metadata": {
    "deletable": false,
    "editable": false
   },
   "source": [
    "## Problem 2 - Combinatorial Logic\n",
    "> Assign the boolean expression: `(a AND b) OR (NOT c)` to the module's output. "
   ]
  },
  {
   "cell_type": "code",
   "execution_count": null,
   "id": "simplified-scanning",
   "metadata": {
    "deletable": false,
    "solution2": "hidden",
    "solution2_first": true
   },
   "outputs": [],
   "source": [
    "class CombLogic extends Module {\n",
    "    val io = ???\n",
    "    \n",
    "    // YOUR CODE HERE\n",
    "    ???\n",
    "    \n",
    "    // We can print state like this everytime `step()` is called in our test\n",
    "    printf(p\"a: ${io.a}, b: ${io.b}, c: ${io.c}, out: ${io.out}\\n\")\n",
    "}"
   ]
  },
  {
   "cell_type": "raw",
   "id": "e4d860a6",
   "metadata": {
    "deletable": false,
    "editable": false,
    "solution2": "hidden"
   },
   "source": [
    "class CombLogic extends Module {\n",
    "    val io = IO(new Bundle {\n",
    "        val a   = Input(Bool())\n",
    "        val b   = Input(Bool())\n",
    "        val c   = Input(Bool())\n",
    "        val out = Output(Bool())\n",
    "    })\n",
    "    \n",
    "    io.out := (io.a && io.b) || !io.c\n",
    "    \n",
    "    // We can print state like this everytime `step()` is called in our test\n",
    "    printf(p\"a: ${io.a}, b: ${io.b}, c: ${io.c}, out: ${io.out}\\n\")\n",
    "}"
   ]
  },
  {
   "cell_type": "markdown",
   "id": "burning-terrorism",
   "metadata": {
    "deletable": false,
    "editable": false
   },
   "source": [
    ">Write your own test that tests `CombLogic` exhaustively for all input values `a, b, and c`. Look into the previous exercise for the reference on how to write tests. The module should return `true` if and only if all calls to `dut.io.out.expect(...)` succeed. You can use `dut.clock.step()` as a print statement in the code to print the inputs and outputs of your circuit. If used correctly, the output should be similar to this:\n",
    "<br>a:  0, b:  0, c:  0, out:  1\n",
    "<br>a:  0, b:  0, c:  1, out:  0\n",
    "<br>a:  0, b:  1, c:  0, out:  1\n",
    "<br>a:  0, b:  1, c:  1, out:  0\n",
    "<br>a:  1, b:  0, c:  0, out:  1\n",
    "<br>a:  1, b:  0, c:  1, out:  0\n",
    "<br>a:  1, b:  1, c:  0, out:  1\n",
    "<br>a:  1, b:  1, c:  1, out:  1\n",
    "\n",
    "Hint: You can use `for (i <- Seq(false, true)){ ... }` to loop over a finite sequence of values."
   ]
  },
  {
   "cell_type": "code",
   "execution_count": null,
   "id": "pacific-standing",
   "metadata": {
    "deletable": false,
    "solution2": "hidden",
    "solution2_first": true
   },
   "outputs": [],
   "source": [
    "def testCombLogic: Boolean = {\n",
    "    test(new CombLogic) { dut =>\n",
    "        \n",
    "        // YOUR CODE HERE\n",
    "        ???\n",
    "    }\n",
    "    true\n",
    "}\n",
    "\n",
    "assert(testCombLogic)"
   ]
  },
  {
   "cell_type": "raw",
   "id": "b25ea0a2",
   "metadata": {
    "deletable": false,
    "editable": false,
    "solution2": "hidden"
   },
   "source": [
    "def testCombLogicSolution: Boolean = {\n",
    "    test(new CombLogicSolution) { dut =>\n",
    "        for (a <- Seq(false, true)) {\n",
    "            for (b <- Seq(false, true)) {\n",
    "                for (c <- Seq(false, true)) {\n",
    "                    dut.io.a.poke(a.B)\n",
    "                    dut.io.b.poke(b.B)\n",
    "                    dut.io.c.poke(c.B)\n",
    "                    dut.io.out.expect(((a && b) || !c).B)\n",
    "                    dut.clock.step()\n",
    "                }\n",
    "            }\n",
    "        }\n",
    "    }\n",
    "    true\n",
    "}\n",
    "\n",
    "assert(testCombLogicSolution)"
   ]
  }
 ],
 "metadata": {
  "celltoolbar": "Edit Metadata",
  "kernelspec": {
   "display_name": "Scala",
   "language": "scala",
   "name": "scala"
  },
  "language_info": {
   "codemirror_mode": "text/x-scala",
   "file_extension": ".sc",
   "mimetype": "text/x-scala",
   "name": "scala",
   "nbconvert_exporter": "script",
   "version": "2.13.10"
  }
 },
 "nbformat": 4,
 "nbformat_minor": 5
}
